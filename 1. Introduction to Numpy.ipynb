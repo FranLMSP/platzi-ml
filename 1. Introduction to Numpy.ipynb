{
 "cells": [
  {
   "cell_type": "markdown",
   "metadata": {},
   "source": [
    "# Why Numpy?\n",
    "\n",
    "Numpy allow us create better data types for numerical manipulation, which are more efficient than regular Python data types.\n"
   ]
  },
  {
   "cell_type": "code",
   "execution_count": 1,
   "metadata": {},
   "outputs": [],
   "source": [
    "#importing numpy\n",
    "import numpy as np #very common practice\n",
    "from IPython import display #this library will allow us to display data with type"
   ]
  },
  {
   "cell_type": "markdown",
   "metadata": {},
   "source": [
    "# Creating arrays"
   ]
  },
  {
   "cell_type": "code",
   "execution_count": 23,
   "metadata": {},
   "outputs": [],
   "source": [
    "a1 = np.array([1, 2, 3])    #Creating a numpy array from a regular Python array\n",
    "a2 = np.arange(10)          #Similar to Python's \"range()\", it creates a list filled with values from 0 to 9 in this case\n",
    "a3 = np.zeros((2, 3))       #Creates a 2x3 list pre-filled with zeroes\n",
    "a4 = np.ones((2, 3))        #Creates a 2x3 list pre-filled with ones"
   ]
  },
  {
   "cell_type": "code",
   "execution_count": 24,
   "metadata": {},
   "outputs": [
    {
     "data": {
      "text/plain": [
       "array([1, 2, 3])"
      ]
     },
     "metadata": {},
     "output_type": "display_data"
    }
   ],
   "source": [
    "#Test your arrays here\n",
    "display(a1)"
   ]
  },
  {
   "cell_type": "markdown",
   "metadata": {},
   "source": [
    "# np.linspace(a, b, n)\n",
    "\n",
    "Is a function that creates a 1 dimention array, where `n` is the length, and contains points between `a` and `b`, with regular distance. The distance between each point will be `(b - a)/(n - 1)`"
   ]
  },
  {
   "cell_type": "code",
   "execution_count": 25,
   "metadata": {},
   "outputs": [
    {
     "data": {
      "text/plain": [
       "array([0. , 0.1, 0.2, 0.3, 0.4, 0.5, 0.6, 0.7, 0.8, 0.9, 1. ])"
      ]
     },
     "metadata": {},
     "output_type": "display_data"
    }
   ],
   "source": [
    "#like np.array, but in this case we are creating 11 real values from 0 and 1\n",
    "a5 = np.linspace(0, 1, 11) \n",
    "display(a5)"
   ]
  },
  {
   "cell_type": "markdown",
   "metadata": {},
   "source": [
    "# Data types\n",
    "\n",
    "Numpy arrays, in this case for example, will allow only `float64` data types. If you try to append another data type, it will throw an error."
   ]
  },
  {
   "cell_type": "code",
   "execution_count": 26,
   "metadata": {},
   "outputs": [
    {
     "data": {
      "text/plain": [
       "dtype('float64')"
      ]
     },
     "execution_count": 26,
     "metadata": {},
     "output_type": "execute_result"
    }
   ],
   "source": [
    "a5.dtype"
   ]
  },
  {
   "cell_type": "markdown",
   "metadata": {},
   "source": [
    "# Array dimentions\n",
    "\n",
    "The method `shape` will return a tuple with the dimentions of the array.\n",
    "For example, the variable `a1` shape will return `(3,)` because is a 1 dimention array (a vector using math terms)\n",
    "And the variable `a3` shape will return `(2, 3)` becaise it's a matrix\n",
    "\n",
    "Let's see it"
   ]
  },
  {
   "cell_type": "code",
   "execution_count": 31,
   "metadata": {},
   "outputs": [
    {
     "data": {
      "text/plain": [
       "(3,)"
      ]
     },
     "metadata": {},
     "output_type": "display_data"
    },
    {
     "data": {
      "text/plain": [
       "(2, 3)"
      ]
     },
     "metadata": {},
     "output_type": "display_data"
    }
   ],
   "source": [
    "display(a1.shape)\n",
    "display(a3.shape)"
   ]
  },
  {
   "cell_type": "markdown",
   "metadata": {},
   "source": [
    "# Are two arrays the same?\n",
    "\n",
    "With the `np.array_equal(a, b)` method we can check if two arrays are the same"
   ]
  },
  {
   "cell_type": "code",
   "execution_count": 52,
   "metadata": {},
   "outputs": [
    {
     "data": {
      "text/plain": [
       "False"
      ]
     },
     "execution_count": 52,
     "metadata": {},
     "output_type": "execute_result"
    }
   ],
   "source": [
    "b1 = np.array([1, 2, 3])\n",
    "b2 = np.array([[1, 2, 3]])\n",
    "\n",
    "np.array_equal(b1, b2)"
   ]
  },
  {
   "cell_type": "markdown",
   "metadata": {},
   "source": [
    "# Reshaping\n",
    "\n",
    "Numpy arrays have a method called `reshape((2, 3))`. As parameter, it gets a tuple with two values with the new dimentions"
   ]
  },
  {
   "cell_type": "code",
   "execution_count": 53,
   "metadata": {},
   "outputs": [
    {
     "data": {
      "text/plain": [
       "True"
      ]
     },
     "execution_count": 53,
     "metadata": {},
     "output_type": "execute_result"
    }
   ],
   "source": [
    "b1 = b1.reshape((1, a1.shape[0])) #reshaping b2 by 1x3\n",
    "\n",
    "#now b1 and b2 are the same\n",
    "np.array_equal(b1, b2)"
   ]
  },
  {
   "cell_type": "markdown",
   "metadata": {},
   "source": [
    "# Element access and Slicing\n",
    "\n",
    "We can access to Array elements with `w[a, b]`, where `w` is our matrix, `a` is the line and `b` is the column.\n",
    "**Remember** that the elements are indexed from 0.\n",
    "\n",
    "This is an example for two dimentional arrays, if you want to access to a three dimentions array, you can do it with `w[a, b, c]`\n",
    "\n",
    "Let's create a 3x3 matrix"
   ]
  },
  {
   "cell_type": "code",
   "execution_count": 62,
   "metadata": {},
   "outputs": [
    {
     "data": {
      "text/plain": [
       "array([[ 1,  0,  3],\n",
       "       [ 4,  3,  5],\n",
       "       [ 6, 10, -1]])"
      ]
     },
     "metadata": {},
     "output_type": "display_data"
    }
   ],
   "source": [
    "a = np.array([[1,0,3], [4, 3, 5], [6, 10, -1]])\n",
    "display(a)"
   ]
  },
  {
   "cell_type": "code",
   "execution_count": 63,
   "metadata": {},
   "outputs": [
    {
     "data": {
      "text/plain": [
       "3"
      ]
     },
     "execution_count": 63,
     "metadata": {},
     "output_type": "execute_result"
    }
   ],
   "source": [
    "a[0, 2] #accessing to line 0 column 3 element"
   ]
  },
  {
   "cell_type": "markdown",
   "metadata": {},
   "source": [
    "# Creating neutral matrix"
   ]
  },
  {
   "cell_type": "code",
   "execution_count": 64,
   "metadata": {},
   "outputs": [
    {
     "data": {
      "text/plain": [
       "array([0, 1, 2, 3, 4, 5, 6, 7, 8, 9])"
      ]
     },
     "metadata": {},
     "output_type": "display_data"
    },
    {
     "data": {
      "text/plain": [
       "array([[1., 0., 0.],\n",
       "       [0., 1., 0.],\n",
       "       [0., 0., 1.]])"
      ]
     },
     "metadata": {},
     "output_type": "display_data"
    }
   ],
   "source": [
    "a = np.arange(10)\n",
    "b = np.eye(3)\n",
    "display(a)\n",
    "display(b)"
   ]
  },
  {
   "cell_type": "code",
   "execution_count": 70,
   "metadata": {},
   "outputs": [
    {
     "data": {
      "text/plain": [
       "array([0, 1, 2, 3, 4])"
      ]
     },
     "execution_count": 70,
     "metadata": {},
     "output_type": "execute_result"
    }
   ],
   "source": [
    "#get first 5 elements of a\n",
    "a[:5]"
   ]
  },
  {
   "cell_type": "code",
   "execution_count": 75,
   "metadata": {},
   "outputs": [
    {
     "data": {
      "text/plain": [
       "array([0., 1., 0.])"
      ]
     },
     "execution_count": 75,
     "metadata": {},
     "output_type": "execute_result"
    }
   ],
   "source": [
    "#get the 3 lines and column 1 of b\n",
    "b[0:3, 1]"
   ]
  },
  {
   "cell_type": "code",
   "execution_count": 76,
   "metadata": {},
   "outputs": [
    {
     "data": {
      "text/plain": [
       "array([0., 1., 0.])"
      ]
     },
     "execution_count": 76,
     "metadata": {},
     "output_type": "execute_result"
    }
   ],
   "source": [
    "#same example\n",
    "b[:, 1]"
   ]
  },
  {
   "cell_type": "code",
   "execution_count": 77,
   "metadata": {},
   "outputs": [
    {
     "data": {
      "text/plain": [
       "array([0., 0., 1.])"
      ]
     },
     "execution_count": 77,
     "metadata": {},
     "output_type": "execute_result"
    }
   ],
   "source": [
    "#get last line\n",
    "b[2, :]"
   ]
  },
  {
   "cell_type": "code",
   "execution_count": 78,
   "metadata": {},
   "outputs": [
    {
     "data": {
      "text/plain": [
       "array([[1., 0., 0.],\n",
       "       [0., 1., 0.],\n",
       "       [0., 0., 1.]])"
      ]
     },
     "execution_count": 78,
     "metadata": {},
     "output_type": "execute_result"
    }
   ],
   "source": [
    "#access to all elements\n",
    "b[:,:]"
   ]
  },
  {
   "cell_type": "markdown",
   "metadata": {},
   "source": [
    "# Arithmetic operations on Arrays\n",
    "\n",
    "When we use a arithmetic operator to a np.array, what is happening inside is that the Python interpreter is calling this `ufuncs` or _Universal Functions_:\n",
    "\n",
    "* `+` calls `np.add`\n",
    "* `-` calls `np.subtract`\n",
    "* `*` calls `np.multiply`"
   ]
  },
  {
   "cell_type": "code",
   "execution_count": 79,
   "metadata": {},
   "outputs": [
    {
     "name": "stdout",
     "output_type": "stream",
     "text": [
      "a        = [0 1 2 3]\n",
      "a + 5    = [5 6 7 8]\n",
      "a - 5    = [-5 -4 -3 -2]\n",
      "a * 2    = [0 2 4 6]\n",
      "a / 2    = [0.  0.5 1.  1.5]\n",
      "a // 2   = [0 0 1 1]\n",
      "-a       = [ 0 -1 -2 -3]\n",
      "a ** 2   = [0 1 4 9]\n",
      "a % 2    = [0 1 0 1]\n"
     ]
    }
   ],
   "source": [
    "a = np.arange(4)\n",
    "\n",
    "print(\"a        =\", a)      #display the \"a\" vector\n",
    "print(\"a + 5    =\", a + 5)  #add 5 to every element\n",
    "print(\"a - 5    =\", a - 5)  #substract 5 to every element\n",
    "print(\"a * 2    =\", a * 2)  #multiply by 2 every element\n",
    "print(\"a / 2    =\", a / 2)  #divide by 2 every element\n",
    "print(\"a // 2   =\", a // 2) #divide by 2 every element and parse to integer\n",
    "print(\"-a       =\", -a)     #multiply every element by -1 (get the oposite vector)\n",
    "print(\"a ** 2   =\", a ** 2) #get square of every element\n",
    "print(\"a % 2    =\", a % 2)  #mudule of 2 of every vector"
   ]
  },
  {
   "cell_type": "code",
   "execution_count": 84,
   "metadata": {},
   "outputs": [
    {
     "data": {
      "text/plain": [
       "array([ 1.        ,  2.71828183,  7.3890561 , 20.08553692])"
      ]
     },
     "metadata": {},
     "output_type": "display_data"
    },
    {
     "data": {
      "text/plain": [
       "array([0.        , 0.69314718, 1.09861229, 1.38629436])"
      ]
     },
     "metadata": {},
     "output_type": "display_data"
    },
    {
     "data": {
      "text/plain": [
       "array([0.        , 1.        , 1.41421356, 1.73205081])"
      ]
     },
     "metadata": {},
     "output_type": "display_data"
    },
    {
     "data": {
      "text/plain": [
       "array([False, False, False, False])"
      ]
     },
     "metadata": {},
     "output_type": "display_data"
    }
   ],
   "source": [
    "# Another interesing ufuncs\n",
    "a = np.arange(4)\n",
    "b = np.arange(1, 5)\n",
    "\n",
    "display(np.exp(a))        #get exponential of every element\n",
    "display(np.log(b))        #get natural logarithm\n",
    "display(np.sqrt(a))       #square raid\n",
    "display(np.greater(a, b)) #superior or equal point to point"
   ]
  },
  {
   "cell_type": "markdown",
   "metadata": {},
   "source": [
    "# Perfomance\n",
    "\n",
    "Numpy runs faster than Python interpreter because it has C++ compiled libraries\n",
    "\n",
    "Here is a performance test"
   ]
  },
  {
   "cell_type": "code",
   "execution_count": 89,
   "metadata": {},
   "outputs": [
    {
     "name": "stdout",
     "output_type": "stream",
     "text": [
      "195 ms ± 2.44 ms per loop (mean ± std. dev. of 7 runs, 1 loop each)\n"
     ]
    }
   ],
   "source": [
    "%%timeit\n",
    "a = np.arange(1000000)\n",
    "b = np.zeros(1000000)\n",
    "i = 0\n",
    "\n",
    "for el in a:\n",
    "    b[i] = el+el\n",
    "    i += 1"
   ]
  },
  {
   "cell_type": "code",
   "execution_count": 90,
   "metadata": {},
   "outputs": [
    {
     "name": "stdout",
     "output_type": "stream",
     "text": [
      "476 ns ± 1.94 ns per loop (mean ± std. dev. of 7 runs, 1000000 loops each)\n"
     ]
    }
   ],
   "source": [
    "%%timeit\n",
    "a+a"
   ]
  },
  {
   "cell_type": "markdown",
   "metadata": {},
   "source": [
    "# Statistics and randomness"
   ]
  },
  {
   "cell_type": "code",
   "execution_count": 91,
   "metadata": {},
   "outputs": [
    {
     "data": {
      "text/plain": [
       "4.5"
      ]
     },
     "metadata": {},
     "output_type": "display_data"
    },
    {
     "data": {
      "text/plain": [
       "4.5"
      ]
     },
     "metadata": {},
     "output_type": "display_data"
    }
   ],
   "source": [
    "a = np.arange(10)\n",
    "\n",
    "display(np.mean(a)) # average\n",
    "display(np.median(a)) # median"
   ]
  },
  {
   "cell_type": "code",
   "execution_count": 92,
   "metadata": {},
   "outputs": [
    {
     "data": {
      "text/plain": [
       "3.6"
      ]
     },
     "execution_count": 92,
     "metadata": {},
     "output_type": "execute_result"
    }
   ],
   "source": [
    "np.percentile(a, 40) #get percentile"
   ]
  },
  {
   "cell_type": "code",
   "execution_count": 93,
   "metadata": {},
   "outputs": [
    {
     "data": {
      "text/plain": [
       "array([0.85528975, 0.12234786, 0.69170134, 0.87291703, 0.27678731,\n",
       "       0.74136068, 0.05783067, 0.84137208, 0.97259391, 0.3393967 ])"
      ]
     },
     "execution_count": 93,
     "metadata": {},
     "output_type": "execute_result"
    }
   ],
   "source": [
    "np.random.random(10) #generates an array with 10 random elements between 0 and 1"
   ]
  },
  {
   "cell_type": "code",
   "execution_count": null,
   "metadata": {},
   "outputs": [],
   "source": []
  }
 ],
 "metadata": {
  "kernelspec": {
   "display_name": "Python 3",
   "language": "python",
   "name": "python3"
  },
  "language_info": {
   "codemirror_mode": {
    "name": "ipython",
    "version": 3
   },
   "file_extension": ".py",
   "mimetype": "text/x-python",
   "name": "python",
   "nbconvert_exporter": "python",
   "pygments_lexer": "ipython3",
   "version": "3.7.0"
  }
 },
 "nbformat": 4,
 "nbformat_minor": 2
}
